{
 "cells": [
  {
   "cell_type": "code",
   "execution_count": 2,
   "metadata": {},
   "outputs": [
    {
     "data": {
      "text/plain": [
       "[Document(metadata={'source': 'EV battery.pdf', 'page': 0, 'page_label': '1'}, page_content='See discussions, stats, and author profiles for this publication at: https://www.researchgate.net/publication/347168239\\nBattery Electric Vehicles (BEVs)\\nChapter\\xa0\\xa0in \\xa0\\xa0Green Energy and Technology · January 2021\\nDOI: 10.1007/978-981-15-9251-5_8\\nCITATIONS\\n26\\nREADS\\n22,398\\n5 authors, including:\\nT. Saravanan\\nGITAM University, Bengaluru Campus\\n51 PUBLICATIONS\\xa0\\xa0\\xa0554 CITATIONS\\xa0\\xa0\\xa0\\nSEE PROFILE\\nAll content following this page was uploaded by T. Saravanan on 11 April 2022.\\nThe user has requested enhancement of the downloaded file.'),\n",
       " Document(metadata={'source': 'EV battery.pdf', 'page': 1, 'page_label': '2'}, page_content='Battery Electric Vehicles (BEVs)\\nAhmad Faraz, A. Ambikapathy, Saravanan Thangavel, K. Logavani,\\nand G. Arun Prasad\\n1 Introduction\\n1.1 A Brief Introduction of Battery Electric V ehicles (BEVs)\\nA battery electric vehicle (BEV) is basically an electric vehicle (EV) that solitary\\nconsumes compound energy to run which is put away in rechargeable battery packs,\\nwith no other source (e.g., hydrogen energy component, an internal combustion\\nengine, and so forth). BEVs utilize electric engine and system instead of an internal\\ncombustion engine (ICEs) for propulsion. They get all force from battery packs and\\nuse it to run the engine which further aides in driving the wheels. They are otherwise\\ncalled unadulterated electric vehicles or just electric vehicles or all-electric vehicle.\\nBattery electric vehicles (BEVs) incorporate different sorts of vehicles, for example,\\ncruisers, bikes, skateboards, railcars, watercraft, forklifts, transports, trucks, and other\\nvehicles.\\nBattery electric vehicles (BEVs) are basic and simple to work when contrasted\\nwith an exemplary internal combustion engine (ICE) vehicles. The engineering of\\nA. Faraz · A. Ambikapathy ( B) · S. Thangavel · G. Arun Prasad\\nGalgotias College of Engineering and Technology, Greater Noida, UP, India\\ne-mail: ami_ty21@yahoo.com\\nA. Faraz\\ne-mail: theahmadfaraz@gmail.com\\nS. Thangavel\\ne-mail: tsaravcse@gmail.com\\nG. Arun Prasad\\ne-mail: arun.prasad@galgotiacollege.edu\\nK. Logavani\\nGovernment College of Engineering—Salem, Salem, Tamil Nadu, India\\ne-mail:Vani.tulips@gmail.com\\n© The Author(s), under exclusive license to Springer Nature Singapore Pte Ltd. 2021\\nN. Patel et al. (eds.), Electric Vehicles, Green Energy and Technology,\\nhttps://doi.org/10.1007/978-981-15-9251-5_8\\n137\\n'),\n",
       " Document(metadata={'source': 'EV battery.pdf', 'page': 2, 'page_label': '3'}, page_content='138 A. Faraz et al.\\nFig. 1 Nissan Leaf and\\nTesla Model S [ 1]. Source\\nWikipedia\\nthe battery electric vehicle comprises of high-voltage battery, an electric engine\\nwith the power electronics controller and a solitary speed gearbox. Battery electric\\nvehicles are expanding their piece of the overall industry since they are the most\\npractical route towards a perfect and effective vehicle framework. Contrasted to ICE\\nvehicles, the most signiﬁcant preferences of a BEV are the general high effectiveness,\\ndependability, and the moderately minimal effort of the electric engine.\\nIn 2016, there were 210 million electric bicycles overall utilized day by day. The\\ngeneral deals of battery electric vehicles that are skilled to run on parkway were seen\\nas one million unit till September 2016. Before the ﬁnish of 2019, world’s top selling\\nmakers Nissan and Tesla have done the worldwide offer of 450,000 units of Nissan\\nLeaf and 448,634 units of Tesla Model S separately [ 1] (Fig. 1).\\n1.2 F eatures\\nThe idea of battery electric vehicles was to utilize charged batteries on board vehicles\\nfor propulsion. Battery electric vehicles are turning out to be increasingly more\\nalluring with the expansion on fuel costs and headway of new battery innovation\\n(lithium-ion). They have a higher force and energy capacity which gives huge range\\nand more prominent conceivable speeding up when contrasted with more established\\nbattery types, for example, lead–acid batteries. For instance, lithium-ion batteries\\nhave an energy capacity of 0.8–2.5 MJ/L while lead–acid batteries had an energy\\ncapacity of 0.4 MJ/L, which is higher. There is as yet far to go if contrasting it with\\noil-based energizers and biofuels.\\nBEVs limit the energy wastage by halting the vehicle when it is stopped and by\\ncharging the battery when the brakes are applied (“regenerative braking”) like other\\nelectric vehicle and hybrid electric vehicles. Electric motors are in like manner more\\nenergy compelling than gas or diesel engines.\\n'),\n",
       " Document(metadata={'source': 'EV battery.pdf', 'page': 3, 'page_label': '4'}, page_content='Battery Electric Vehicles (BEVs) 139\\nBattery electric vehicles have the extra favorable position of home stimulating.\\nA 240-V supply is adequate for the vehicle to charge the whole battery in a period\\nof time. Completely energized battery electric vehicles have a driving constraint of\\n80–100 miles or to a most outrageous extent of 270 miles. Electric motors produce\\nhigh torque or turning-power, while the torque of ICE vehicle increases with the\\nengine’s speed (RPM). This suggests that BEVs have amazingly snappy speeding\\nup appeared differently in relation to standard vehicles [1].\\n2 History and Evolution of BEV\\n2.1 Idea of the Electric Car\\nIn the early eighteenth century, the prerequisite needed, apart from the discovery of an\\nelectricity, to manufacture electric-driven cars was a battery which can be recharged.\\nIn 1828, a Hungarian inventor, Anyos Jedlik made an electric driven motor which\\nconsumes electricity as a means of a transportation with the help of a small car model\\nwhich could be run using his motor.\\nLater, Thomas Davenport, a Vermont Blacksmith developed an electric vehicle\\nmodel in 1834 which used to move on a path which is circular. But all those models\\nmanufactured were lacking self-mounted power source. The solution to this major\\nproblem came out in the year 1859, when French Physicist Guston Plante made\\nthe lead–acid battery. In 1881, Camille Alphonse Faure expanded the limit of the\\nbattery which prompted the creation of batteries on a large scale. With this, battery-\\npowered energy source creators began exploring different avenues regarding power\\nand velocity [2] (Fig. 2).\\nFig. 2 Thomas Parker’s EV\\n[3]. Source Wikimedia\\nCommons\\n'),\n",
       " Document(metadata={'source': 'EV battery.pdf', 'page': 4, 'page_label': '5'}, page_content='140 A. Faraz et al.\\nFig. 3 GM’s The Electrovair\\n[4]. Source My Car Quest\\n2.2 Invention of an EV\\nIn the year 1884, a British Inventor, Thomas Parker delivered the main electric car.\\nIt was controlled by his uniquely structured high-limit battery. Be that as it may,\\nHenry G. Morris, a Mechanical Engineer and a Chemist Pedra G. Salom in 1894\\nin Philadelphia, Pennsylvania, created the principal effective electric vehicle, The\\nElectrobat. It had steel tires to help its substantial edge and huge lead battery.\\nLater on, in the US William Morrison of Des Moines developed a six-passenger\\nelectric car (wagon) which was capable of reaching a speed of 23 km/h. By the time,\\ndifferent creators and architects created numerous models [2].\\n2.3 First BEV by General Motors\\nIn the mid-1960s, GM’s ﬁrst concept electric vehicle was the Electrovair which was\\ncontrolled by utilizing a silver-zinc battery pack that could convey upto 532 V . In\\nany case, this idea neglected to make large-scale manufacturing. Their ﬁrst present-\\nday age electric vehicle to be mass delivered was created in the mid-1990s, named\\nGeneral Motors EV1. California enlivened its planning and fabrication which stated\\na command that it is necessary for producers to create zero-emanation vehicles [2]\\n(Fig. 3).\\n2.4 First BEV by Tesla\\nIn 2008, Tesla Motors made their outright ﬁrst battery electric vehicle (BEV), called\\nas The Roadster. The car was a revolution in the propelled age electric vehicle as it\\n'),\n",
       " Document(metadata={'source': 'EV battery.pdf', 'page': 5, 'page_label': '6'}, page_content='Battery Electric Vehicles (BEVs) 141\\nFig. 4 Tesla’s The Roadster [5]. Source Getty Images\\nused some pattern setting developments, for instance, cutting edge battery advance-\\nment and electrically operated powertrain. The main Roadster is a battery electric\\nvehicle, and it was the primary lawful sequential creation of all-electric vehicle which\\nhad ever used a lithium-ion battery as a force source. It is likewise ﬁrst BEV which\\nis ﬁt for traveling in excess of 320 km for every charge. It can likewise arrive at a\\nmind blowing top speed of 200 km/h. During its creation years (2008–2012), about\\n2500 Roadsters were bought in more than 25 nations around the globe [2] (Fig. 4).\\n3 Comparison Between BEVs and Other EVs\\n3.1 BEV\\nB = Battery, E = Electric, V = Vehicle.\\nBattery electric vehicles are the vehicles which totally runs on the power. They do\\nnot utilize some other fuel (petroleum or diesel) to run. They are 100% all-electric\\nvehicle. The power is put away in the batteries introduced in vehicles (Fig. 5).\\nThey are condition neighborly as they do not discharge any sort of unsafe outﬂows\\nin nature or we can say that they are zero-emanation vehicle. The charging of the\\nbattery electric vehicle is simple as it is very well-ﬁnished with the typical home unit\\nsupply, or at the charging outlet if accessible. A portion of the instances of battery\\nelectric vehicles are Tesla Model 3, Peugeot e-208, MG ZS EV , Nissan Leaf, Renault\\nZoe, Hyundai Kona Electric, Kia e-Niro, Jaguar I-Pace, and so on [ 6].\\n'),\n",
       " Document(metadata={'source': 'EV battery.pdf', 'page': 6, 'page_label': '7'}, page_content='142 A. Faraz et al.\\nFig. 5 BEV\\n3.2 HEV\\nH = Hybrid, E = Electric, V = Vehicle.\\nThese vehicles are the vehicles which are controlled through the internal combus-\\ntion engine with the assistance of fuel, for example, petroleum or diesel. They addi-\\ntionally have a battery which supplies the ability to run the electric engine. Be that\\nas it may, the downside is, this battery cannot be legitimately charged by the external\\ncharger or supply. The battery is charged uniquely with the regenerative slowing\\ndown which implies when we apply the brakes to stop the vehicle then the engine\\nturn over ﬁlling in as a generator and consequently helps in charging the battery\\n(Fig. 6).\\nSuch kind of vehicle frequently runs on a battery at low speeds, and when the\\nvehicle needs to go quicker, they switch on to the internal combustion engine and\\nturn over running on fuel. A portion of the instances of hybrid electric vehicles are\\nToyota Corolla Hybrid, Toyota Yaris Hybrid, Lexus RX450h, Ford Mondeo Hybrid,\\nHonda NSX, and so on [ 6].\\n3.3 PHEV\\nP = Plug-in, H = Hybrid, E = Electric, V = Vehicle.\\nThese electric vehicles are the vehicles like the half breed vehicles, yet the distinc-\\ntion here is we can charge our vehicle by connecting the charger remotely dissimilar\\nto the hybrid electric vehicles where the battery is charged just regenerative slowing\\n'),\n",
       " Document(metadata={'source': 'EV battery.pdf', 'page': 7, 'page_label': '8'}, page_content='Battery Electric Vehicles (BEVs) 143\\nFig. 6 HEV\\ndown. As such type of vehicles has both internal combustion engines just as batteries\\nalong these lines so that they can be run on both the modes (Fig. 7).\\nThe plug-in hybrid electric vehicles can run upto 30 miles on battery on a solitary\\ncharge, after that the vehicle begins running on a fuel. A portion of the instances\\nof the plug-in hybrid electric vehicles is Mitsubishi Outlander, V olvo XC60 Twin\\nEngine, BMW 225xe, V olkswagen Golf GTE, Toyota Prius Plug-in, Mercedes-Benz\\nE350 e SE, and so forth [ 6].\\nFig. 7 PHEV\\n'),\n",
       " Document(metadata={'source': 'EV battery.pdf', 'page': 8, 'page_label': '9'}, page_content='144 A. Faraz et al.\\n4 Construction of BEV\\n4.1 Key Components\\nThe parts labeled in Fig. 8 are the major key components of any battery electric\\nvehicles.\\nThe auxiliary battery plays a major role in an electrically driven vehicle which\\noffers capacity to control vehicle decorations. There is a charging port which allows\\nthe vehicle to communicate with an external power supply so that the battery of the\\nvehicle can be charged. These types of vehicles contain a type of converter which\\nare capable of converting DC supply to DC supply. They basically convert high DC\\nvoltage into low DC voltage because low DC voltage helps in operating the parts of\\nthe vehicle and also to provide energy to the battery. Another major component of\\nsuch vehicle is the traction motor which uses power from the battery and helps in\\nmoving the wheels so that the vehicle can drive. Such type of motors can be used\\nas both to drive and to recover. For the charging of the batteries, we need a charger\\nwhich is known as the on board charger. The role of this charger is to extract the\\nAC power supply from the household or any other power source which is generally\\n240 V . Now this AC power supply is then converted into a DC supply to charge the\\nbattery. It also checks the voltage, current, temperature, and various other factors of\\nthe battery. There is another device called as the power electronics controller which\\nhelps in the conveying of the power supply from the battery and the speed and torque\\ncontrol of the vehicle. The system which handles or manages the temperature of\\ncertain parts of the vehicle is also installed along with the other components, and this\\nsystem is known as the thermal system. This system maintains the temperature of\\nFig. 8 Construction of BEV\\n'),\n",
       " Document(metadata={'source': 'EV battery.pdf', 'page': 9, 'page_label': '10'}, page_content='Battery Electric Vehicles (BEVs) 145\\nFig. 9 Anatomy of Tesla Model S\\nmotor, engines, etc. There is a traction battery pack which is another key components\\nof the vehicle. It is used to store power which is further used in the engine of the\\nelectric vehicle. And lastly, there is a component of transmission. The role of this\\ncomponent is to transmit the mechanical force from the motor to the wheels so as to\\nmove the vehicle [ 7, 8].\\n4.2 Anatomy of Tesla Model S\\nThe Tesla Model S is one of the superior battery electric vehicles. It has two elec-\\ntric engine for traction, one for the front pivot and the other one on the back hub\\nindependently. Additionally, both the motors have their own individual power elec-\\ntronics controller. This double engine design for both the axles is the bit of leeway\\nfor the vehicle as it gives all-wheel drive (AWD) abilities and furthermore a decent\\nexhibition as far as increasing speed and driving elements [ 9] (Fig. 9).\\n4.3 Anatomy of Rimac Concept One\\nAnother exceptionally elite BEV is Rimac Concept One. This is the principal battery\\nelectric hypercar. It has a signiﬁcant level of execution and the driving elements. The\\npowertrain of this vehicle comprises of four separate motors, one for each wheel.\\nEvery one of these motors has their own apparatus box, the single speed gear box\\nin the front and the two-speed gearboxes with carbon ﬁber grips in the back. The\\nhigh-voltage battery is uprooted in a “T” shape, between the front and the back axles\\nas appeared in Fig. 10 [9].\\n'),\n",
       " Document(metadata={'source': 'EV battery.pdf', 'page': 10, 'page_label': '11'}, page_content='146 A. Faraz et al.\\nFig. 10 Anatomy of Rimac Concept One\\n5 Working of BEVs\\n5.1 Working Principle\\nSince we realize that an electric vehicle utilizes electrically driven engine unlike an\\ninternal combustion engine. The electric vehicle uses the force put away in the huge\\nbattery pack which supplies energy to the electric engine. Each electric vehicle has\\nown port of charging, which allows the vehicle to communicate to an external power\\nsupply which helps in the charging of the battery. Charging station or the charging\\noutlet gives charging of the large battery packs. The principle capacity of this battery\\nis to give power to the embellishments in an electric vehicle (Fig. 11).\\nAll the vehicle need a low voltage DC power for working, with the goal that a\\nDC/DC converter is introduced in it. The electric motor which is associated with the\\nFig. 11 Internal architecture of BEV [ 10]. Source Circuit Digest\\n'),\n",
       " Document(metadata={'source': 'EV battery.pdf', 'page': 11, 'page_label': '12'}, page_content='Battery Electric Vehicles (BEVs) 147\\nwheels of the vehicle utilizes the energy of the batteries which helps to run the motor\\nor engine so as to move the vehicle. The speed and the torque of the motor created in\\nit are constrained through the power electronics controller, and it moreover manages\\nthe movement of electrical energy passed on by the battery. This is the fundamental\\nworking guideline of the battery electric vehicles (BEVs).\\nIt has anon board charger, which changes over AC power to DC power to charge\\nthe batteries of the vehicle. The characteristics of the standard battery, for instance,\\nvoltage, temperature, current, and state of charge are obliged through it while\\ncharging the battery pack. The working temperature extent of the electric motor,\\npower contraptions and various parts are kept up with the help of the cooling system\\n[11].\\n5.2 Modes of Operation\\n5.2.1 Electrical Driving\\nThis method of driving is the fundamental driving mode, wherein the vehicle is in\\nthe running condition. The power electronics of the vehicle are given power with the\\nhelp of the high-voltage battery. The converter changes over the direct voltage into\\nan alternating voltage which helps in driving the electric engine and subsequently the\\nvehicle moves. Then again when the motor runs as an alternator the rotating voltage\\nis changed over into the immediate voltage and afterward took care of to the battery\\nwhich prompted the charging of the battery [ 12].\\n5.2.2 Regenerative Braking\\nIn the event that the electric vehicle is moving with no assistance of the driving\\ntorque from the electric engine then a piece of a dynamic energy is taken care of\\ninto the high-voltage battery with the help of the electric engine which works as an\\nalternator. Fundamentally, regenerative braking is the change of the vehicle’s kinetic\\nenergy into energy which is put away in the battery, where it is very well-utilized to\\ndrive the vehicle later. It is regenerative in light of the fact that the energy is recovered\\nto the battery where it tends to be utilized once more.\\nThe kinetic energy put away in a moving vehicle is identiﬁed with the mass and\\nspeed of the vehicle through the condition E = 1/2mv2. All else being equivalent, if\\nthe vehicle is twice as heavy it has double the kinetic energy and in the event that\\nit is moving twice as quick it has multiple times the kinetic energy. Whenever the\\nvehicle hinders the active energy put away in the vehicle must be recoupled with\\nthe assistance of an engine as engine changes over the formed torque into the ﬁtting\\nvoltage and current waveforms to deliver the instructed torque in the engine in the\\nmost effective way. The torque order can be negative or positive. At the point when\\n'),\n",
       " Document(metadata={'source': 'EV battery.pdf', 'page': 12, 'page_label': '13'}, page_content='148 A. Faraz et al.\\nthe torque serves to slow the vehicle, then energy is stored back to the battery, and\\nhenceforth, this is called regenerative braking [ 12].\\n5.2.3 Climate Control While Vehicle Is Stationary\\nIn the event that the electric vehicle is remaining in a car inﬂux, no yield is required\\nfrom the electric engine or generator. The solace necessities of the inhabitants are met\\nwith a high-voltage warming framework and climate control system blower. There\\nis no utilization of energy when the vehicle isn’t moving or ﬁxed. An atmosphere\\ncontrol gadget for a ﬁxed control of the atmosphere in an engine vehicle has a\\nheatpump circuit. There are two heat exchanger, one heat exchanger for taking up\\nheat, and another heat exchanger for releasing heat into the vehicle interior. There is\\nan electrically or precisely drivable blower which is situated in the stream heading of\\nthe heat siphon circuit between the ﬁrst and the second heat exchanger, and a supporter\\nset for delivering mechanical and electrical force. The electrical and mechanical force\\nis being utilized in any event to some degree to drive the blower. Also, there is a third\\nheat exchanger by which the fume heat of the sponsor set is moved to the heatpump\\ncircuit. Along these lines, great proﬁciency is guaranteed for the atmosphere control\\ngadget in the warming activity while the vehicle is not moving [ 12].\\n6 About Batteries in BEVs\\nThe fundamental and the most signiﬁcant piece of any battery electric vehicle is the\\nhigh-voltage battery. Different parts and the components of the vehicle are altogether\\naffected through the parameters of the battery, for example, greater traction motor\\ntorque, most extreme recovery brake torque, vehicle run, weight of vehicle, vehicle\\ncost, and so on.\\n6.1 Types of Batteries\\nA battery comprises of at least two electrochemical cells combined. The battery\\nchanges over the chemical energy to electric energy. A solitary battery cell is made\\nof a positive cathode and a negative anode, both are associated with an electrolyte. The\\ncompound response between the electrolyte and terminals produces power. Battery-\\npowered batteries can turn around the substance response by switching the current.\\nAlong these lines, the battery can be energized. The material and their types utilized\\nfor the cathodes and electrolyte decides the battery particulars. Various batteries\\naccessible are appropriate for EVs. These batteries are depicted here.\\n'),\n",
       " Document(metadata={'source': 'EV battery.pdf', 'page': 13, 'page_label': '14'}, page_content='Battery Electric Vehicles (BEVs) 149\\n6.1.1 Lead/Acid\\nThese batteries are one of the most established class of a battery utilized in battery\\nelectric vehicles. The positive terminal of the battery is lead oxide, and the negative\\nterminal of the battery is lead. Both the terminals of the battery are drenched in an\\nelectrolyte of sulfuric acid. During the release procedure, the lead on the negative\\nterminal and the lead oxide on the positive terminal respond to sulfuric acid. Because\\nof the response lead sulfate is shaped and the electrolyte transforms into water, energy\\nis discharged during the chemical reaction and when energy is involved the reaction\\nwill be reversed.\\nThe cost of the particular energy of the lead/acid batteries is low when contrasted\\nwith the other battery innovations. A common lead/acid battery has a particular\\nenergy of about 40 Wh/kg and a particular intensity of about 240 W/kg [13].\\n6.1.2 Nickel Metal Hydride\\nThese types of batteries, on the positive terminal of the battery, use nickel. These\\nare of four sorts: nickel zinc (Ni–Zn), nickel iron (Ni–Fe), nickel metal hydride\\n(Ni–MH), and nickel cadmium (Ni–Ca). Due to their minimum life and less explicit\\nforce, the Ni–Zn and Ni–Fe types of batteries are not viewed as a possibility for EVs.\\nThe best invention was the cadmium-based Ni-Ca batteries. These batteries are in\\ncontrast with the Ni-MH batteries. The Ni-MH battery reaction is such that the metal\\nhydride reacts with the nickel oxyhydroxide and gives nickel hydroxide and metal\\nseparately.\\nThey have high explicit force upto 2000 W/kg and have explicit energy between\\nthe scope of 45 and 70 Wh/kg [ 13].\\n6.1.3 Lithium-Ion\\nThese type of batteries are the most dependable and prevailing innovation in the\\nﬁeld of batteries for BEVs just as different EVs. The development of the lithium-ion\\nbatteries has been expanding from the last few years. Maximum BEVs in the future\\nare going to be outﬁtted with lithium-ion batteries. Examples of vehicles which\\nuse such type of batteries are the Tesla Roadster and the Mitsubishi i-Miev. These\\nbatteries are really reasonable for superior EV batteries as a result of the principle\\ncharacteristics of this metal which is high expected potential. This means they have\\nhigh potential energy (in Wh/kg), all things considered. Lithium is additionally light\\nin weight among all the accessible metallic materials.\\nThe particular energy of the lithium-ion battery ranges from 60 to 250 Wh/kg\\nwhile the force capacity can be as high as 2000 W/kg [ 13].\\n'),\n",
       " Document(metadata={'source': 'EV battery.pdf', 'page': 14, 'page_label': '15'}, page_content='150 A. Faraz et al.\\n6.1.4 Metal Air\\nThe metal air batteries are not as easy to work as different batteries referenced on the\\ngrounds that the greater part of them cannot be revived by turning around the current\\nrather we need to supplant the anodes with different materials. These batteries are\\nprecisely rechargeable and are practically identical in energy units. The signiﬁcant\\nfavorable position of such batteries is that it has only one reactant and other reactant\\nis supposed to be due to which the weight of the battery is reduced. Among all the\\nmetal air batteries, the zinc air battery is the most popular while other batteries are\\nin progress to develop. The enormous energy capacity of the battery is valuable in\\nlittle gadgets requiring a dependable battery.\\nThey have a high explicit energy of about 220 Wh/kg, yet they have a generally\\nlow explicit intensity of about 110 W/kg [ 13].\\n6.1.5 Ultra Capacitors\\nUltra capacitors are totally not quite the same as batteries, as they store their energy\\ngenuinely though the batteries store their energy artiﬁcially. The two plates of the\\ncapacitors are known as collectors which are separated in an electrolyte. The role\\nof capacitors is to store the energy on high surface materials. Ultra capacitors can\\nbe charged and released a lot quicker than batteries and are truly reasonable for\\nputting away the energy from regenerative slowing down. The ultra capacitor has\\nhigh explicit intensity to 5000 W/kg yet a low energy capacity of 5 Wh/kg [13]\\n(Fig. 12).\\nFig. 12 Power and energy of different batteries [ 9]. Source x-engineer.org\\n'),\n",
       " Document(metadata={'source': 'EV battery.pdf', 'page': 15, 'page_label': '16'}, page_content='Battery Electric Vehicles (BEVs) 151\\n6.2 Battery Pack Architectures\\nA battery pack of high-voltage battery is the mix of a number of battery cells organized\\nin strings and modules. The battery cell is considered as the smallest unit of the battery\\npack. When the individual battery cells are gathered together or arranged together,\\nthey are called as modules. Further, when these modules are joined together and\\norchestrated in the arrangement or pattern, they structure battery packs. Depending\\nupon the battery parameters, there might be a few degrees of measured quality.\\nThe quantity of cells orchestrated in arrangement decide the all out battery pack\\nvoltage. Consider the model demonstrated as follows shows the series connection of\\nthe cells.\\nSo as to build the present limit of the battery, the blend of strings has to be\\nassociated equally. Think about the model as demonstrated as follows: The limit and\\nthe current ability of the battery will be multiple times when the series of cells are\\nassociated equally. From Figs. 13 and 14, the series and the parallel combinations of\\nbatteries and their representation can be understood [ 9].\\n6.2.1 Mitsubishi i-MIEV Battery Pack\\nThe high-voltage battery pack of Mitsubishi i-MIEV has 22 modules which contains\\n88 cells which are associated in arrangement. These modules contain 4 cells each.\\nThe voltage of each cell is 3.7 V , and the absolute voltage of the battery pack is 330 V\\nwhich can be seen from Fig. 15 [9].\\nFig. 13 Battery cells in\\nseries\\nFig. 14 Battery cells in\\nparallel\\n'),\n",
       " Document(metadata={'source': 'EV battery.pdf', 'page': 16, 'page_label': '17'}, page_content='152 A. Faraz et al.\\nFig. 15 Battery pack of Mitsubishi [ 14]. Source Mitsubishi\\nFig. 16 Battery pack of\\nTesla Model S [ 14]. Source\\nTesla\\n6.2.2 Tesla Model S Battery Pack\\nThe high-voltage battery pack of Tesla Model S has 16 modules involved 6 gatherings\\neach. Each gathering present in every module is a mix of 74 cells; in this manner, all\\nout number of cells present in the battery pack are 7104. This can be seen in Fig. 16\\n[9].\\n6.3 Battery Pricing\\nBattery estimating is the most signiﬁcant detail of the battery electric vehicle (BEVs).\\nToday the NiMH battery is as yet less expensive than lithium-ion batteries; however,\\nlithium-ion batteries will in the long run be more affordable than the NiMH battery\\nwhen being mass delivered.\\n'),\n",
       " Document(metadata={'source': 'EV battery.pdf', 'page': 17, 'page_label': '18'}, page_content='Battery Electric Vehicles (BEVs) 153\\nThe Pb/A battery won’t decline in value in the future as the innovation is practically\\ndeveloped. NiMH battery costs are additionally cannot be predicted signiﬁcantly may\\nbe as more as the cost of nickel which make up the vast majority of the battery cost.\\nThe ﬁrst delivered lithium-ion pack is about 1600e/kWh and at a creation stock of\\none lakh packs per year the manufacturing cost will be as minimum as 150 e/kWh.\\nThe advancement proportion determined can give a sign of how the innovation will\\ncreate in coming years when one lakh battery packs are delivered. An advancement\\nproportion for lithium-ion batteries for purchaser items was determined and evaluated\\nas of 83% somewhere in the range of 1993 and 2003. An other report assessed an\\nadvancement report of 92.5% somewhere in the range of 2010 and 2030. Similarly,\\nas with different advancements the cost will diminish more in the beginning time of\\nimprovement [9].\\n7 Classiﬁcation of Charging\\nThe charging of the battery electric vehicle is arranged into three levels: level one,\\nlevel two and level three or DC fast charging.\\n7.1 Level One Charging\\nFrom Fig. 17, this level utilizes a similar 120-V supply found in home unit outlets,\\nand this charging can be done by using the normal cable of charging which other\\nFig. 17 Level one charging [ 11]. Source New Car Kids\\n'),\n",
       " Document(metadata={'source': 'EV battery.pdf', 'page': 18, 'page_label': '19'}, page_content='154 A. Faraz et al.\\nelectrically driven vehicle use. Making this sort of charging accessible is as straight-\\nforward as introducing devoted 120 V outlets in the parking area, home or work\\nenvironment. The charging of about 10 h is sufﬁcient to travel roughly 70–80 miles\\n[15].\\nAdvantages\\nNo establishment cost if an outlet is accessible close to where the vehicle is left.\\nThis has a low effect on electric utility.\\nDisadvantages\\nSlow charging, commonly in one-hour of charge it can travel 5–6 miles.\\n7.2 Level Two Charging\\nFrom Fig. 18, this type of charging requires a speciﬁc station which gives power at\\n240 V . This sort of charging needs installation of charging station unit and electrical\\nwiring ﬁt for dealing with higher voltage power. Such type of charging is beneﬁcial\\nfor daily work commute. It takes nearly 4–5 h to completely charge a battery so that\\nthe vehicle can travel around 70–80 mile [15].\\nAdvantages\\nFaster charge time normally 10–20 miles per every hour of charge.\\nEnergy effective, about 3% gain in proﬁciency.\\nAssortment of EV charging makers gives separated items which can plan charging,\\ntrack use, and gather expenses.\\nFig. 18 Level two charging [ 16]. Source Arthur D. Little\\n'),\n",
       " Document(metadata={'source': 'EV battery.pdf', 'page': 19, 'page_label': '20'}, page_content='Battery Electric Vehicles (BEVs) 155\\nDisadvantages\\nMore costly than level one.\\nIt has possibly higher effect on top kilowatt request charges for organizations.\\n7.3 Level Three Charging or DC Fast Charging\\nFrom Fig. 19, DC quick charging of 480 V gives good vehicles a 80% charge in 30 min\\nto 1 h by changing over AC capacity to DC power capacity in EV batteries. For DC\\nquick charging, there are three attachment types utilized by various automakers: the\\nCHAdeMO, Society of Automotive Engineers (SAE) consolidated charging frame-\\nwork (Combo/CSS). Tesla’s Supercharger hardware is just good with Tesla vehicles,\\ninspite of the fact that they offer a connector which permits Tesla proprietors to utilize\\nCHAdeMO gear [15].\\nAdvantages\\nCharge time is decreased radically, and it is almost as quick as refueling a fuel vehicle.\\nDisadvantages\\nAltogether costlier than the other two levels of charging.\\nConceivably expanded charges for business areas.\\nDiverse ﬁtting sorts are confounding to potential EV purchasers and charging\\nstation administrators.\\nThe contingent upon the vehicle and charging gear, quick charging can be eased\\nback during chilly climate.\\nFig. 19 Level three charging\\n[16]. Source Arthur D. Little\\n'),\n",
       " Document(metadata={'source': 'EV battery.pdf', 'page': 20, 'page_label': '21'}, page_content='156 A. Faraz et al.\\nFig. 20 Efﬁciency map [ 9]. Source x-engineer.org\\n8 Advantages of BEVs Over Other EVs and Ice Vehicles\\n8.1 Efﬁciency\\nIn battery electric vehicles, the substituting ﬂow (AC) electric engine which has\\npermanent magnet or induction rotors offer high generally efﬁciency. The engine\\nutilized for the vehicle is permanent magnet electric engine which has a base produc-\\ntivity of around 65–80% and a limit of 90–97%, though the efﬁciency of an ICE is\\na lot of lower around 10–40%.\\nAn electric engine can be handily worked at a normal productivity of 80–90% on\\na driving cycle; however, the normal efﬁciency of an ICE vehicle is 20–30% which\\nimplies that the effectiveness of BEVs is multiple times higher than the internal\\ncombustion engines [9] (Fig. 20).\\n8.2 Dynamic Performance\\nFigure 21 gives information regarding torque and power characteristics. The engine\\nof the battery electric vehicle has a perfect traction trademark. The electric engine can\\nconvey the most extreme torque at a zero speed, which gives an excellent beginning\\nto the vehicle. An electric engine is equipped for giving a peak torque to a constrained\\nmeasure of time in the beginning and a ceaseless torque as long as there is an inventory\\ngiven to the vehicle. For a top torque in the beginning, the engine requires a very\\n'),\n",
       " Document(metadata={'source': 'EV battery.pdf', 'page': 21, 'page_label': '22'}, page_content='Battery Electric Vehicles (BEVs) 157\\nFig. 21 Torque and power characteristics [ 9]. Source x-engineer.org\\nmeasure of current from the battery which creates a high temperature in the force\\nhardware and engine. To shield the parts from higher temperature, the peak torque\\nis constrained in time yet the torque is accessible enough to help the speeding up\\nexecution of the vehicle [ 9].\\n8.3 Reliability\\nThe battery electric vehicles have not many prospects of disappointments when\\ncontrasted with the internal combustion engine vehicles in light of the fact that\\nBEVs have less moving parts. Likewise because of high torque and fast qualities of\\nthe electric engine, there is no requirement for a multistage gearbox which implies a\\nsolitary advance mechanical gearbox is sufﬁcient for traction prerequisites. Though\\nICE vehicles have many moving parts and furthermore extra framework, for example,\\na fuel framework, a weariness framework, and so on which can prompt disappoint-\\nments and an extra wellspring of disappointments is a multi-stage gearbox. In this\\nway, BEVs are more dependable than other vehicles [9].\\n8.4 Torque V ectoring\\nFor an all-wheel drive (AWD) battery electric vehicle, the soundness during the\\ncornering is signiﬁcant. This stability during cornering can be improved with the\\nassistance of controlling the torque of the wheels. An electric engine of a battery\\nelectric vehicle has quicker torque reaction and is equipped for creating negative\\ntorque additionally, which then again, internal combustion engine vehicle cannot do.\\n'),\n",
       " Document(metadata={'source': 'EV battery.pdf', 'page': 22, 'page_label': '23'}, page_content='158 A. Faraz et al.\\nFig. 22 Positive and negative torque map [ 9]. Source x-engineer.org\\nRather than ICE vehicles, they have constrained commitment to the vehicle solidness\\nand they lessen the measure of torque conveyed [ 9].\\n8.5 Energy Recuperation and Brake Regeneration\\nThe utilization of an electric machine in the battery electric vehicles is one of\\nthe unmistakable favorable position of BEVs over different vehicles. The electric\\nmachines are reversible which implies that they can deliver torque in the event that\\nthey are provided through the electrical energy, and they can likewise create elec-\\ntrical energy when they have an input torque because of the latency of the vehicle.\\nAt the point when the electric machine is creating torque, then it is in engine mode\\nand when the electric machine is delivering electrical energy, then it is in generator\\nmode. Figure 22 shows that the negative torque can be as high as the positive torque\\nwhich implies the electric machine can create a lot of the slowing down torque [ 9].\\n8.6 Cost and Maintenance\\nThe battery electric vehicles have a bit of leeway of much lower running expense\\nwhen contrasted with different EVs just as the regular internal combustion engine\\nvehicles. The expense of power required to charge a battery electric vehicle is 33%\\nas much per kilometer as the expense of purchasing petroleum for other customary\\nvehicles. Additionally having less moving parts and segments, a battery electric\\nvehicle is simpler and less expensive to keep up.\\n'),\n",
       " Document(metadata={'source': 'EV battery.pdf', 'page': 23, 'page_label': '24'}, page_content='Battery Electric Vehicles (BEVs) 159\\n8.7 Better for an Environment\\nLess Pollution : The battery electric vehicles help in lessening the destructive air\\ncontamination from exhaust emanations as the BEVs have zero fume discharges\\n[17].\\nRenewable Energy : By utilizing the sustainable power source to energize the\\nbattery electric vehicle, the green house gas outﬂows can likewise be decreased.\\nUtilizing solar PV to revive the vehicle is a bit of leeway as it requires typical\\nhousehold supply to energize its battery which should be possible by solar powered\\nPV framework or some other sustainable power source. Also, renewable energy such\\nas wind energy can be used to produce power which can be further utilized to charge\\nthe vehicle [ 18–20].\\nEco-friendly Materials: In the cutting edge age, there are manufacturers who are\\nusing eco-friendly materials for the development of vehicles, for instance, recycled\\nplastic materials, bio-based materials, or recycled household waste materials. In this\\nway, the manufacturers are concerned to build the vehicles with an eco-friendly\\nmaterials.\\n9 Conclusion\\nFrom the invention of the electric vehicles in the early eighteenth century to the\\nmodern age world of today, there have been many evolutions and developments in\\nthe electric vehicles. After years of growth and development in this ﬁeld, battery\\nelectric vehicles demand is ﬁnally increasing. A number of factors such as better\\nperformance, cutting edge technologies, connectivity, environment friendly, quieter\\nride, and low running cost are combining to focus the attention on the adoption of\\nbattery electric vehicles.\\nDespite having so many features, there are a few concerns as well before adoption\\nsuch as driving range, initial cost, lack of charging infrastructure, and time required\\nto charge the vehicle. The average driving range of the battery electric vehicles is\\n150–200 miles which are quite less than that of ICE vehicles. But it is better for\\nthe people who have a daily commute of 70–100 km s. Similarly, the initial cost\\nof BEVs is more in contrast with the ICE vehicles, whereas the maintenance cost\\nand the running cost of BEV are much less than that of ICE vehicles, and therefore,\\nBEVs are better for long run. One of the major concerns about BEVs is the lack of\\ncharging infrastructure. For the vehicles used for the daily commute, the home or\\nworkplace charging is more than sufﬁcient. But for the long-range drive of BEVs,\\nthere is a need of charging stations at various places just like the fuel stations for\\nthe ICE vehicles. With the help of charging stations, batteries of the vehicles can be\\nrecharged and they can travel over the longer distance. Addition to this, time taken to\\ncharge the vehicle is another concern about BEVs. On an average, a typical battery\\nelectric vehicle takes near about 8 h to charge a 60 kWh battery from empty-to-full\\n'),\n",
       " Document(metadata={'source': 'EV battery.pdf', 'page': 24, 'page_label': '25'}, page_content='160 A. Faraz et al.\\nwhich can cover up to 200 miles of distance. This charging time can be reduced to\\nminimum of 30 min with the help of fast-charging stations. Also, beneﬁting from\\nthe battery technology improvements, the time required to charge at fast-charging\\nstations can be reduced further.\\nConsidering all these factors and the technological advancements, the market of\\nthe battery electric vehicles will be at the tipping point in the coming few years.\\nReferences\\n1. Z. Shahan, 1 Million Pure EVs Worldwide: EV Revolution Begins (Clean Technica, 2016)\\n2. J. Fuller, What is the history of electric cars? How Stuff Works, 14 July 2009\\n3.World’s First Electric Car Built by Victorian Inventor in 1884 (The Daily Telegraph, London,\\n2009)\\n4. E. Rishavy, W. W. Bond, T. Zechin, Electrovair—A Battery Electric Car, SAE Technical Paper\\n670175, 1967\\n5. G. Berdichevsky, K. Kelty, J.B. Straubel, E. Toomre, The Tesla Roadster Battery System (Tesla\\nMotors, 2006)\\n6. D.B. Sandalow, Plug-in Electric Vehicles: What Role for Washington? (The Brookings Institute,\\n2009). ISBN 978-0-8157-0305-1\\n7. A. Anand et al., Optimal selection of electric motor for E-rickshaw application using MCDM\\ntools, Cognitive Informatics and Soft Computing (Springer, Singapore, 2020), pp. 501–509\\n8. K.C. Manjunatha, A.K. Bhoi, K.S. Sherpa, Design and development of buck-boost regulator\\nfor DC motor used in electric vehicle for the application of renewable energy, Advances in\\nSmart Grid and Renewable Energy (Springer, Singapore, 2018), pp. 33–37\\n9. T.R. Crompton, Battery Reference Books , 3rd edn. (Newnes, 2000). ISBN 978-0080499956.\\nRetrieved 18 Mar 2016\\n10. How Exactly Do Electric Cars Work? Green Car Future, 11 November 2018. Retrieved 22 Nov\\n2018\\n11. Components and Systems for Electric Vehicles (HEVs/EVs), Hitachi Review. Retrieved 18\\nMar 2016\\n12. Seminar on Electric Vehicles (Automative Research Association of India, 2017)\\n13. D. Bakker, Battery Electric Vehicles Performance, CO 2Emissions, Lifecycle Costs and\\nAdvanced Battery Technology Development Emissions, Lifecycle Costs and Advanced Battery\\nTechnology Development(Utrecht University, Netherland, 2010)\\n14. The Battery Pack of Mitsubishi i-MIEV , Green Car Congress Energy, Technologies, Issues and\\nPolicies for Sustainable Mobility, 14 May 2008\\n15. Electric Vehicle Charging Types, Time, Cost and Savings (Union of Concerned Scientists, 2018)\\n16. J.W. Brennan, T.E. Barder, Battery electric vehicles vs internal combustion engine vehicles, A\\nUnited States-Based Comprehensive Assessment (Arthur D Little, Strategy and Organization,\\nBoston)\\n17. N. Priyadarshi et al., A closed-loop control of ﬁxed pattern rectiﬁer for renewable energy\\napplications, Advances in Greener Energy Technologies (Springer, Singapore, 2020), pp. 451–\\n461\\n18. N. Priyadarshi, F. Azam, A.K. Bhoi, A.K. Sharma, A multilevel inverter-controlled photovoltaic\\ngeneration, in Advances in Greener Energy Technologies (Springer, Singapore, 2020), pp. 149–\\n155\\n19. A. Sahu et al., Design of permanent magnet synchronous generator for wind energy conversion\\nsystem, Advances in Smart Grid and Renewable Energy (Springer, Singapore, 2018), pp. 23–32\\n20. S. SenGupta, A.F. Zobaa, K.S. Sherpa, A.K. Bhoi, Advances in Smart Grid and Renewable\\nEnergy (2018)\\nView publication stats')]"
      ]
     },
     "execution_count": 2,
     "metadata": {},
     "output_type": "execute_result"
    }
   ],
   "source": [
    "from langchain.document_loaders import PyPDFLoader\n",
    "\n",
    "loader = PyPDFLoader(\"EV battery.pdf\")\n",
    "\n",
    "document = loader.load()\n",
    "\n",
    "document"
   ]
  },
  {
   "cell_type": "code",
   "execution_count": 16,
   "metadata": {},
   "outputs": [],
   "source": [
    "content = \" \"\n",
    "for i in document:\n",
    "    c = i.page_content\n",
    "    content += c"
   ]
  },
  {
   "cell_type": "code",
   "execution_count": 17,
   "metadata": {},
   "outputs": [],
   "source": [
    "from langchain.schema import Document"
   ]
  },
  {
   "cell_type": "code",
   "execution_count": 20,
   "metadata": {},
   "outputs": [],
   "source": [
    "content = Document(page_content=content)"
   ]
  },
  {
   "cell_type": "code",
   "execution_count": 6,
   "metadata": {},
   "outputs": [
    {
     "name": "stderr",
     "output_type": "stream",
     "text": [
      "A new version of the following files was downloaded from https://huggingface.co/Alibaba-NLP/new-impl:\n",
      "- configuration.py\n",
      ". Make sure to double-check they do not contain any added malicious code. To avoid downloading new versions of the code file, you can pin a revision.\n",
      "A new version of the following files was downloaded from https://huggingface.co/Alibaba-NLP/new-impl:\n",
      "- modeling.py\n",
      ". Make sure to double-check they do not contain any added malicious code. To avoid downloading new versions of the code file, you can pin a revision.\n"
     ]
    }
   ],
   "source": [
    "from sentence_transformers import SentenceTransformer\n",
    "\n",
    "embedding = SentenceTransformer('Alibaba-NLP/gte-large-en-v1.5', trust_remote_code = True)"
   ]
  },
  {
   "cell_type": "code",
   "execution_count": 22,
   "metadata": {},
   "outputs": [
    {
     "data": {
      "text/plain": [
       "array([[ 0.7810353 , -0.09381704,  0.64870816, ...,  0.2887101 ,\n",
       "        -0.2620095 , -0.6144406 ]], dtype=float32)"
      ]
     },
     "execution_count": 22,
     "metadata": {},
     "output_type": "execute_result"
    }
   ],
   "source": [
    "class DocumentEmbedder:\n",
    "    def __init__(self, model_name =\"Alibaba-NLP/gte-large-en-v1.5\"):\n",
    "        self.model = SentenceTransformer(model_name, trust_remote_code = True)\n",
    "        \n",
    "    def embed_documents(self, documents):\n",
    "        if not isinstance(documents, list):\n",
    "            raise ValueError(\"documents should be provided as a lsit of strings.\")\n",
    "        return self.model.encode(documents)\n",
    "    \n",
    "embedder = DocumentEmbedder()\n",
    "\n",
    "d =[\"this bhavesh here, I love Generative AI\"]\n",
    "embedder.embed_documents(d)\n",
    "\n",
    "\n",
    "           \n",
    "    \n",
    "    "
   ]
  },
  {
   "cell_type": "code",
   "execution_count": 11,
   "metadata": {},
   "outputs": [],
   "source": [
    "from  langchain_experimental.text_splitter import SemanticChunker\n"
   ]
  },
  {
   "cell_type": "code",
   "execution_count": 23,
   "metadata": {},
   "outputs": [],
   "source": [
    "text_splitter = SemanticChunker(embedder)"
   ]
  },
  {
   "cell_type": "code",
   "execution_count": 24,
   "metadata": {},
   "outputs": [],
   "source": [
    "docs = text_splitter.split_documents([content])"
   ]
  },
  {
   "cell_type": "code",
   "execution_count": 30,
   "metadata": {},
   "outputs": [
    {
     "name": "stdout",
     "output_type": "stream",
     "text": [
      "7 PHEV\n",
      "144 A. Faraz et al. 4 Construction of BEV\n",
      "4.1 Key Components\n",
      "The parts labeled in Fig. 8 are the major key components of any battery electric\n",
      "vehicles. The auxiliary battery plays a major role in an electrically driven vehicle which\n",
      "offers capacity to control vehicle decorations. There is a charging port which allows\n",
      "the vehicle to communicate with an external power supply so that the battery of the\n",
      "vehicle can be charged. These types of vehicles contain a type of converter which\n",
      "are capable of converting DC supply to DC supply. They basically convert high DC\n",
      "voltage into low DC voltage because low DC voltage helps in operating the parts of\n",
      "the vehicle and also to provide energy to the battery. Another major component of\n",
      "such vehicle is the traction motor which uses power from the battery and helps in\n",
      "moving the wheels so that the vehicle can drive. Such type of motors can be used\n",
      "as both to drive and to recover. For the charging of the batteries, we need a charger\n",
      "which is known as the on board charger. The role of this charger is to extract the\n",
      "AC power supply from the household or any other power source which is generally\n",
      "240 V . Now this AC power supply is then converted into a DC supply to charge the\n",
      "battery. It also checks the voltage, current, temperature, and various other factors of\n",
      "the battery. There is another device called as the power electronics controller which\n",
      "helps in the conveying of the power supply from the battery and the speed and torque\n",
      "control of the vehicle. The system which handles or manages the temperature of\n",
      "certain parts of the vehicle is also installed along with the other components, and this\n",
      "system is known as the thermal system. This system maintains the temperature of\n",
      "Fig. 8 Construction of BEV\n",
      "Battery Electric Vehicles (BEVs) 145\n",
      "Fig. 9 Anatomy of Tesla Model S\n",
      "motor, engines, etc. There is a traction battery pack which is another key components\n",
      "of the vehicle. It is used to store power which is further used in the engine of the\n",
      "electric vehicle. And lastly, there is a component of transmission. The role of this\n",
      "component is to transmit the mechanical force from the motor to the wheels so as to\n",
      "move the vehicle [ 7, 8]. 4.2 Anatomy of Tesla Model S\n",
      "The Tesla Model S is one of the superior battery electric vehicles. It has two elec-\n",
      "tric engine for traction, one for the front pivot and the other one on the back hub\n",
      "independently. Additionally, both the motors have their own individual power elec-\n",
      "tronics controller. This double engine design for both the axles is the bit of leeway\n",
      "for the vehicle as it gives all-wheel drive (AWD) abilities and furthermore a decent\n",
      "exhibition as far as increasing speed and driving elements [ 9] (Fig. 9). 4.3 Anatomy of Rimac Concept One\n",
      "Another exceptionally elite BEV is Rimac Concept One. This is the principal battery\n",
      "electric hypercar. It has a signiﬁcant level of execution and the driving elements. The\n",
      "powertrain of this vehicle comprises of four separate motors, one for each wheel. Every one of these motors has their own apparatus box, the single speed gear box\n",
      "in the front and the two-speed gearboxes with carbon ﬁber grips in the back. The\n",
      "high-voltage battery is uprooted in a “T” shape, between the front and the back axles\n",
      "as appeared in Fig. 10 [9].\n"
     ]
    }
   ],
   "source": [
    "print(docs[6].page_content)"
   ]
  },
  {
   "cell_type": "code",
   "execution_count": null,
   "metadata": {},
   "outputs": [],
   "source": []
  },
  {
   "cell_type": "code",
   "execution_count": null,
   "metadata": {},
   "outputs": [],
   "source": []
  },
  {
   "cell_type": "code",
   "execution_count": null,
   "metadata": {},
   "outputs": [],
   "source": []
  }
 ],
 "metadata": {
  "kernelspec": {
   "display_name": "serach",
   "language": "python",
   "name": "python3"
  },
  "language_info": {
   "codemirror_mode": {
    "name": "ipython",
    "version": 3
   },
   "file_extension": ".py",
   "mimetype": "text/x-python",
   "name": "python",
   "nbconvert_exporter": "python",
   "pygments_lexer": "ipython3",
   "version": "3.11.11"
  }
 },
 "nbformat": 4,
 "nbformat_minor": 2
}
